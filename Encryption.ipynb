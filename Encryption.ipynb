{
 "cells": [
  {
   "cell_type": "markdown",
   "metadata": {},
   "source": [
    "# Simple Encryptor Class to Encrypt Data Using Random Key/Instance"
   ]
  },
  {
   "cell_type": "markdown",
   "metadata": {},
   "source": [
    "#### Requirements\n",
    "* Python 3 (or later)"
   ]
  },
  {
   "cell_type": "code",
   "execution_count": 1,
   "metadata": {},
   "outputs": [],
   "source": [
    "from random import randint\n",
    "\n",
    "class Encryptor():\n",
    "    def __init__(self,random_call = True):\n",
    "        self.random_call = random_call\n",
    "        self.encryption_key = self._gen_key()\n",
    "        self.decryption_key = {j:i for i,j in self.encryption_key.items()}\n",
    "        self.used = [0,0] # detects the uses of the decryption and encryption (enc,dec)\n",
    "    \n",
    "    def encrypt(self,message):\n",
    "        \"\"\"\n",
    "        encrypt(self,message)\n",
    "        #######################\n",
    "        Parameters:\n",
    "        message: message to encrypt dtype(str UTF-8)\n",
    "        #############\n",
    "        returns:\n",
    "        encrypted message dtype (str UNICODE)\n",
    "        \n",
    "        \"\"\"\n",
    "        message_array = [letter for letter in message]\n",
    "        encrypted = ''\n",
    "        for letter in message:\n",
    "            encrypted += chr(self.encryption_key[letter])\n",
    "        # updating the encryption key\n",
    "        self.used[0]+=1\n",
    "        return encrypted.encode()\n",
    "    \n",
    "    def decrypt(self,encrypted_message):\n",
    "        \"\"\"\n",
    "        decrypt(self,encrypted_message)\n",
    "        #######################\n",
    "        Parameters:\n",
    "        encrypted_message: message to decrypt dtype(str UNICODE)\n",
    "        #############\n",
    "        returns:\n",
    "        decrypted message dtype (str UTF-8)\n",
    "        \n",
    "        \"\"\"\n",
    "        encrypted_message = encrypted_message.decode()\n",
    "        message_array = [ord(letter) for letter in encrypted_message]\n",
    "        decrypted = ''\n",
    "        for n in message_array:\n",
    "            decrypted += self.decryption_key[n]\n",
    "        # updating the decryption key\n",
    "        if self.random_call:\n",
    "            self.decryption_key = {j:i for i,j in self.encryption_key.items()}\n",
    "        self.used[1]+=1\n",
    "        self._detect_and_update_key()\n",
    "        return decrypted\n",
    "        \n",
    "    def _gen_key(self):\n",
    "        \"\"\"\n",
    "        RANDOM KEY GENERATOR\n",
    "        \n",
    "        generates random key per instance. used to encrypt and decrypt messages\n",
    "        \n",
    "        random key is generated and stored as an instance parameter attached to the object\n",
    "        \n",
    "        \"\"\"\n",
    "        offset_val = randint(2,100)\n",
    "        key = {}\n",
    "        for i in range(1,128): # generated a random key in range\n",
    "            key[chr(i)] = i+offset_val\n",
    "        return key\n",
    "    \n",
    "    def _detect_and_update_key(self):\n",
    "        \"\"\"\n",
    "        detects when the enc dec operation is over to renew the key\n",
    "        \"\"\"\n",
    "        if self.used[0]==self.used[1]:\n",
    "            self.encryption_key = self._gen_key()\n",
    "            self.decryption_key = {j:i for i,j in self.encryption_key.items()}"
   ]
  },
  {
   "cell_type": "markdown",
   "metadata": {},
   "source": [
    "### Craeting an Object of the Encryptor class and extracting data to encrypt"
   ]
  },
  {
   "cell_type": "code",
   "execution_count": 2,
   "metadata": {},
   "outputs": [],
   "source": [
    "Enc = Encryptor()\n",
    "to_encrypt = open('text.txt').read()"
   ]
  },
  {
   "cell_type": "markdown",
   "metadata": {},
   "source": [
    "### Encryption with random key"
   ]
  },
  {
   "cell_type": "code",
   "execution_count": 3,
   "metadata": {
    "scrolled": false
   },
   "outputs": [
    {
     "name": "stdout",
     "output_type": "stream",
     "text": [
      "b'Qn{z\\xc2\\x85,Y{{~q\\x16\\x164=>?5,@AB9CDE=\\x16\\x16qy{{~qLqymux:o{y\\x16\\x16Ym\\xc2\\x85,=8,><=D\\x16\\x16Pqm~,Tu~uzs,Ymzmsq~8\\x16\\x16U,\\xc2\\x83{\\xc2\\x81xp,xuwq,\\xc2\\x80{,uz\\xc2\\x80~{p\\xc2\\x81oq,y\\xc2\\x85\\x7fqxr,m\\x7f,mz,m||xuomz\\xc2\\x80,r{~,\\xc2\\x80tq,Pm\\xc2\\x80m,_ouqz\\xc2\\x80u\\x7f\\xc2\\x80,|{\\x7fu\\xc2\\x80u{z,m\\xc2\\x80,^u\\xc2\\x82q~,`qot8,m,|~q\\x7f\\xc2\\x80usu{\\xc2\\x81\\x7f,mzp,~q|\\xc2\\x81\\xc2\\x80mnxq,zmyq,uz,uzz{\\xc2\\x82m\\xc2\\x80u\\xc2\\x82q,\\xc2\\x80qotz{x{s\\xc2\\x85:,U,my,o{zrupqz\\xc2\\x80,uz,y\\xc2\\x85,mnuxu\\xc2\\x80\\xc2\\x85,\\xc2\\x80{,|q~r{~y,m\\x7f,m,Pm\\xc2\\x80m,_ouqz\\xc2\\x80u\\x7f\\xc2\\x80,m\\xc2\\x80,^u\\xc2\\x82q~,`qot,p\\xc2\\x81q,\\xc2\\x80{,y\\xc2\\x85,q\\xc2\\x84\\xc2\\x80qz\\x7fu\\xc2\\x82q,qp\\xc2\\x81om\\xc2\\x80u{z,mzp,\\xc2\\x83{~w,q\\xc2\\x84|q~uqzoq:\\x16\\x16P\\xc2\\x81~uzs,y\\xc2\\x85,\\xc2\\x83{~w,q\\xc2\\x84|q~uqzoq,m\\xc2\\x80,O~mzq,2,Vqzwuz\\x7f8,U,tmp,mz,q\\xc2\\x84\\xc2\\x80qz\\x7fu\\xc2\\x82q,~mzsq,{r,~q\\x7f|{z\\x7funuxu\\xc2\\x80uq\\x7f,uzox\\xc2\\x81puzs,\\x7fqxqo\\xc2\\x80uzs,rqm\\xc2\\x80\\xc2\\x81~q\\x7f8,{|\\xc2\\x80uyu\\xc2\\x86uzs,oxm\\x7f\\x7furuq~\\x7f8,yuzuzs,pm\\xc2\\x80m8,q\\xc2\\x84|mzpuzs,\\xc2\\x80tq,o{y|mz\\xc2\\x853\\x7f,pm\\xc2\\x80m,n\\xc2\\x85,uzo{~|{~m\\xc2\\x80uzs,\\xc2\\x80tu~p9|m~\\xc2\\x80\\xc2\\x85,\\x7f{\\xc2\\x81~oq\\x7f8,uy|~{\\xc2\\x82uzs,pm\\xc2\\x80m,o{xxqo\\xc2\\x80u{z,\\xc2\\x80qotzu}\\xc2\\x81q\\x7f8,|~{oq\\x7f\\x7fuzs,pm\\xc2\\x80m8,mzp,p{uzs,mp9t{o,mzmx\\xc2\\x85\\x7fq\\x7f:,M\\x7f,m,Pm\\xc2\\x80m,_ouqz\\xc2\\x80u\\x7f\\xc2\\x808,U,\\xc2\\x83m\\x7f,~q}\\xc2\\x81u~qp,\\xc2\\x80{,tm\\xc2\\x82q,q\\xc2\\x84oqxxqz\\xc2\\x80,o{yy\\xc2\\x81zuom\\xc2\\x80u{z,\\x7fwuxx\\x7f8,\\xc2\\x81zpq~\\x7f\\xc2\\x80mzpuzs,{r,mxs{~u\\xc2\\x80ty\\x7f8,q\\xc2\\x84oqxxqzoq,uz,\\xc2\\x80tq,Ym\\xc2\\x80Xmn,\\xc2\\x80{{x,wu\\xc2\\x808,|~{ruouqzo\\xc2\\x85,uz,SS|x{\\xc2\\x808,wz{\\xc2\\x83xqpsq,{r,_]X8,mzp,q\\xc2\\x84oqxxqzoq,uz,m||xuqp,\\x7f\\xc2\\x80m\\xc2\\x80u\\x7f\\xc2\\x80uo\\x7f:,P\\xc2\\x81~uzs,y\\xc2\\x85,qust\\xc2\\x809\\xc2\\x85qm~,\\xc2\\x80qz\\xc2\\x81~q,m\\xc2\\x80,O~mzq,2,Vqzwuz\\x7f8,U,m||xuqp,\\xc2\\x80tq\\x7fq,\\x7fwuxx\\x7f,pmux\\xc2\\x85,mzp,|q~r{~yqp,q\\xc2\\x84oq|\\xc2\\x80u{zmxx\\xc2\\x85,m\\xc2\\x80,\\xc2\\x80tq,o{y|mz\\xc2\\x85:\\x16\\x16Y\\xc2\\x85,mnuxu\\xc2\\x80uq\\x7f,m\\x7f,m,Pm\\xc2\\x80m,_ouqz\\xc2\\x80u\\x7f\\xc2\\x80,m~q,~{{\\xc2\\x80qp,uz,m,\\x7f\\xc2\\x80\\xc2\\x81~p\\xc2\\x85,qp\\xc2\\x81om\\xc2\\x80u{z,uz,ym\\xc2\\x80tqym\\xc2\\x80uo\\x7f:,U,nqsmz,\\xc2\\x83u\\xc2\\x80t,m,nmotqx{~3\\x7f,pqs~qq,uz,o{y|\\xc2\\x81\\xc2\\x80q~,\\x7fouqzoq,r~{y,X{zsr{~p,`qot:,U,r{xx{\\xc2\\x83qp,\\xc2\\x80tu\\x7f,\\xc2\\x83u\\xc2\\x80t,m,ym\\x7f\\xc2\\x80q~3\\x7f,pqs~qq,uz,\\x7f\\xc2\\x80m\\xc2\\x80u\\x7f\\xc2\\x80uo\\x7f,mzp,m,\\\\t:P:,uz,m||xuqp,ym\\xc2\\x80tqym\\xc2\\x80uo\\x7f:,U,m\\xc2\\x80\\xc2\\x80~un\\xc2\\x81\\xc2\\x80q,y\\xc2\\x85,\\x7f\\xc2\\x81ooq\\x7f\\x7f,m\\x7f,m,Pm\\xc2\\x80m,_ouqz\\xc2\\x80u\\x7f\\xc2\\x80,uz,xm~sq,|m~\\xc2\\x80,\\xc2\\x80{,\\xc2\\x80tu\\x7f,q\\xc2\\x84\\xc2\\x80qz\\x7fu\\xc2\\x82q,mzp,uz9pq|\\xc2\\x80t,qp\\xc2\\x81om\\xc2\\x80u{z:,U,nqxuq\\xc2\\x82q,y\\xc2\\x85,|q~\\x7f{zmxu\\xc2\\x80\\xc2\\x85,tm\\x7f,mx\\x7f{,|xm\\xc2\\x85qp,m,ymv{~,~{xq,uz,y\\xc2\\x85,mnuxu\\xc2\\x80\\xc2\\x85,\\xc2\\x80{,\\x7f\\xc2\\x81ooqqp,uz,\\xc2\\x80tu\\x7f,om~qq~:,U,my,mz,q\\xc2\\x84\\xc2\\x80~qyqx\\xc2\\x85,mzmx\\xc2\\x85\\xc2\\x80uomx8,pm\\xc2\\x80m9{~uqz\\xc2\\x80qp8,mzp,omxo\\xc2\\x81xm\\xc2\\x80qp:,Q\\xc2\\x82qz,uz,y\\xc2\\x85,|q~\\x7f{zmx,xurq,U,xuwq,\\xc2\\x80{,x{{w,m\\xc2\\x80,\\xc2\\x80tq,pm\\xc2\\x80m,nqr{~q,ymwuzs,m,pqou\\x7fu{z:,U,xuwq,\\xc2\\x80{,mzmx\\xc2\\x85\\xc2\\x86q,{\\xc2\\x81\\xc2\\x80o{yq\\x7f:\\x16\\x16U,\\xc2\\x83{\\xc2\\x81xp,xuwq,\\xc2\\x80{,\\xc2\\x80tmzw,\\xc2\\x85{\\xc2\\x81,r{~,\\xc2\\x80mwuzs,\\xc2\\x80tq,\\xc2\\x80uyq,\\xc2\\x80{,~q\\xc2\\x82uq\\xc2\\x83,y\\xc2\\x85,m||xuom\\xc2\\x80u{z:,U,x{{w,r{~\\xc2\\x83m~p,\\xc2\\x80{,tqm~uzs,y{~q,mn{\\xc2\\x81\\xc2\\x80,^u\\xc2\\x82q~,`qot,mzp,\\xc2\\x80tq,pq\\xc2\\x80mux\\x7f,{r,\\xc2\\x80tq,Pm\\xc2\\x80m,_ouqz\\xc2\\x80u\\x7f\\xc2\\x80,|{\\x7fu\\xc2\\x80u{z:,U,rqqx,\\xc2\\x80tm\\xc2\\x80,y\\xc2\\x85,qp\\xc2\\x81om\\xc2\\x80u{z,mzp,q\\xc2\\x84|q~uqzoq,\\xc2\\x83uxx,qz\\x7f\\xc2\\x81~q,y\\xc2\\x85,\\x7f\\xc2\\x81ooq\\x7f\\x7f,uz,\\xc2\\x80tu\\x7f,~{xq:\\x16\\x16_uzoq~qx\\xc2\\x858\\x16\\x16Y~,^{n{\\xc2\\x80'\n"
     ]
    }
   ],
   "source": [
    "encrypted = Enc.encrypt(to_encrypt)\n",
    "print(encrypted)"
   ]
  },
  {
   "cell_type": "markdown",
   "metadata": {},
   "source": [
    "### Decryption with the same instance of the random key"
   ]
  },
  {
   "cell_type": "code",
   "execution_count": 4,
   "metadata": {},
   "outputs": [
    {
     "name": "stdout",
     "output_type": "stream",
     "text": [
      "Ebony Moore\n",
      "\n",
      "(123) 456-7891\n",
      "\n",
      "emoore@email.com\n",
      "\n",
      "May 1, 2018\n",
      "\n",
      "Dear Hiring Manager,\n",
      "\n",
      "I would like to introduce myself as an applicant for the Data Scientist position at River Tech, a prestigious and reputable name in innovative technology. I am confident in my ability to perform as a Data Scientist at River Tech due to my extensive education and work experience.\n",
      "\n",
      "During my work experience at Crane & Jenkins, I had an extensive range of responsibilities including selecting features, optimizing classifiers, mining data, expanding the company's data by incorporating third-party sources, improving data collection techniques, processing data, and doing ad-hoc analyses. As a Data Scientist, I was required to have excellent communication skills, understanding of algorithms, excellence in the MatLab tool kit, proficiency in GGplot, knowledge of SQL, and excellence in applied statistics. During my eight-year tenure at Crane & Jenkins, I applied these skills daily and performed exceptionally at the company.\n",
      "\n",
      "My abilities as a Data Scientist are rooted in a sturdy education in mathematics. I began with a bachelor's degree in computer science from Longford Tech. I followed this with a master's degree in statistics and a Ph.D. in applied mathematics. I attribute my success as a Data Scientist in large part to this extensive and in-depth education. I believe my personality has also played a major role in my ability to succeed in this career. I am an extremely analytical, data-oriented, and calculated. Even in my personal life I like to look at the data before making a decision. I like to analyze outcomes.\n",
      "\n",
      "I would like to thank you for taking the time to review my application. I look forward to hearing more about River Tech and the details of the Data Scientist position. I feel that my education and experience will ensure my success in this role.\n",
      "\n",
      "Sincerely,\n",
      "\n",
      "Mr Robot\n"
     ]
    }
   ],
   "source": [
    "decrypted = Enc.decrypt(encrypted)\n",
    "print(decrypted)"
   ]
  },
  {
   "cell_type": "code",
   "execution_count": null,
   "metadata": {},
   "outputs": [],
   "source": []
  }
 ],
 "metadata": {
  "kernelspec": {
   "display_name": "Python 3",
   "language": "python",
   "name": "python3"
  },
  "language_info": {
   "codemirror_mode": {
    "name": "ipython",
    "version": 3
   },
   "file_extension": ".py",
   "mimetype": "text/x-python",
   "name": "python",
   "nbconvert_exporter": "python",
   "pygments_lexer": "ipython3",
   "version": "3.7.3"
  }
 },
 "nbformat": 4,
 "nbformat_minor": 2
}
